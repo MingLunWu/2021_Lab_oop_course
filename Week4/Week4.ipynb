{
 "metadata": {
  "language_info": {
   "codemirror_mode": {
    "name": "ipython",
    "version": 3
   },
   "file_extension": ".py",
   "mimetype": "text/x-python",
   "name": "python",
   "nbconvert_exporter": "python",
   "pygments_lexer": "ipython3",
   "version": "3.7.6"
  },
  "orig_nbformat": 4,
  "kernelspec": {
   "name": "python3",
   "display_name": "Python 3.7.6 64-bit ('pytorch': conda)"
  },
  "interpreter": {
   "hash": "40c5a71ee4ec70a31dcbb14d433bbc3583805613c49c3ce6c02810ed207d6fc8"
  }
 },
 "nbformat": 4,
 "nbformat_minor": 2,
 "cells": [
  {
   "source": [
    "## `__call__()` Function\n",
    "\n",
    "`__call__()` 如同 `__init__()`，是 **Python的保留函式**\n",
    "\n",
    "`__call__()` 使得實體可以像函式一樣被呼叫。"
   ],
   "cell_type": "markdown",
   "metadata": {}
  },
  {
   "cell_type": "code",
   "execution_count": 1,
   "metadata": {},
   "outputs": [],
   "source": [
    "class TestClass:\n",
    "    def __init__(self):\n",
    "        print(\"Test Class has been initialized!\")\n",
    "    def __call__(self, name:str):\n",
    "        print(f\"My name is {name}!\")"
   ]
  },
  {
   "cell_type": "code",
   "execution_count": 2,
   "metadata": {},
   "outputs": [
    {
     "output_type": "stream",
     "name": "stdout",
     "text": [
      "Test Class has been initialized!\n"
     ]
    }
   ],
   "source": [
    "test_class = TestClass()"
   ]
  },
  {
   "source": [
    "`test_class`是一個實體，隸屬於 `TestClass`類別。"
   ],
   "cell_type": "markdown",
   "metadata": {}
  },
  {
   "cell_type": "code",
   "execution_count": 3,
   "metadata": {},
   "outputs": [
    {
     "output_type": "stream",
     "name": "stdout",
     "text": [
      "My name is allen!\n"
     ]
    }
   ],
   "source": [
    "test_class(\"allen\")"
   ]
  },
  {
   "source": [
    "---\n"
   ],
   "cell_type": "markdown",
   "metadata": {}
  },
  {
   "source": [
    "## 實做第一個 Pytorch Model"
   ],
   "cell_type": "markdown",
   "metadata": {}
  },
  {
   "cell_type": "code",
   "execution_count": 1,
   "metadata": {},
   "outputs": [],
   "source": [
    "import os\n",
    "import torch\n",
    "from torch import nn"
   ]
  },
  {
   "source": [
    "使用 `Pytorch` 前，先確認自己目前使用的裝置是 CPU/GPU:"
   ],
   "cell_type": "markdown",
   "metadata": {}
  },
  {
   "cell_type": "code",
   "execution_count": 5,
   "metadata": {},
   "outputs": [
    {
     "output_type": "stream",
     "name": "stdout",
     "text": [
      "Using cuda device\n"
     ]
    }
   ],
   "source": [
    "device = 'cuda' if torch.cuda.is_available() else 'cpu'\n",
    "print('Using {} device'.format(device))"
   ]
  },
  {
   "source": [
    "### 定義模型\n",
    "\n",
    "定義 `Pytorch` 的模型架構時，基本上是透過**定義一個類別**來完成。\n",
    "\n",
    "其中有兩個 Function 是必備的: \n",
    "\n",
    "+ `__init__()` : 建構子，通常模型會用到的每一層Layer都需要先在其中被定義。\n",
    " + `forward()` : 必需要Override，定義模型如何進行 Forward Propagation。"
   ],
   "cell_type": "markdown",
   "metadata": {}
  },
  {
   "cell_type": "code",
   "execution_count": 10,
   "metadata": {},
   "outputs": [],
   "source": [
    "class NeuralNetwork(nn.Module): # 必須要繼承nn.Module\n",
    "    def __init__(self): # 建構子，通常裡面會宣告模型中會使用的每一層Layer\n",
    "        super(NeuralNetwork, self).__init__() # 繼承\n",
    "        #*以下nn開頭皆為封裝好的Layer\n",
    "        self.flatten = nn.Flatten() \n",
    "        self.linear_relu_stack = nn.Sequential(\n",
    "            nn.Linear(28*28, 512),\n",
    "            nn.ReLU(),\n",
    "            nn.Linear(512, 512),\n",
    "            nn.ReLU(),\n",
    "            nn.Linear(512, 10),\n",
    "            nn.ReLU()\n",
    "        )\n",
    "\n",
    "    def forward(self, x): # 定義模型的 Forward 流程\n",
    "        x = self.flatten(x)\n",
    "        logits = self.linear_relu_stack(x)\n",
    "        return logits"
   ]
  },
  {
   "cell_type": "code",
   "execution_count": 12,
   "metadata": {},
   "outputs": [
    {
     "output_type": "stream",
     "name": "stdout",
     "text": [
      "NeuralNetwork(\n  (flatten): Flatten()\n  (linear_relu_stack): Sequential(\n    (0): Linear(in_features=784, out_features=512, bias=True)\n    (1): ReLU()\n    (2): Linear(in_features=512, out_features=512, bias=True)\n    (3): ReLU()\n    (4): Linear(in_features=512, out_features=10, bias=True)\n    (5): ReLU()\n  )\n)\n"
     ]
    }
   ],
   "source": [
    "model = NeuralNetwork().to(device)\n",
    "print(model)"
   ]
  },
  {
   "source": [
    "### Forward Propagation\n",
    "\n",
    "在 `Pytorch` 及 `transformers` 中，預設將 `__call__()` 設定為 `forward()`\n",
    "\n",
    "也就是說，當你看到 : \n",
    "\n",
    "```python\n",
    "output = model(variable)\n",
    "```\n",
    "\n",
    "實際上等同於 : \n",
    "\n",
    "```python\n",
    "output = model.forward(variable)\n",
    "```"
   ],
   "cell_type": "markdown",
   "metadata": {}
  },
  {
   "cell_type": "code",
   "execution_count": 34,
   "metadata": {},
   "outputs": [],
   "source": [
    "X = torch.rand(1, 28, 28, device=device)\n"
   ]
  },
  {
   "cell_type": "code",
   "execution_count": 35,
   "metadata": {},
   "outputs": [],
   "source": [
    "logits = model(X) # 將 X 這個張量送入模型中，進行 Forward Propagation"
   ]
  },
  {
   "cell_type": "code",
   "execution_count": 36,
   "metadata": {},
   "outputs": [
    {
     "output_type": "execute_result",
     "data": {
      "text/plain": [
       "tensor([[0.0296, 0.0281, 0.0000, 0.0000, 0.0000, 0.0000, 0.0000, 0.0000, 0.0000,\n",
       "         0.0000]], device='cuda:0', grad_fn=<ReluBackward0>)"
      ]
     },
     "metadata": {},
     "execution_count": 36
    }
   ],
   "source": [
    "logits"
   ]
  },
  {
   "cell_type": "code",
   "execution_count": 37,
   "metadata": {},
   "outputs": [
    {
     "output_type": "stream",
     "name": "stdout",
     "text": [
      "Predicted class: tensor([0], device='cuda:0')\n"
     ]
    }
   ],
   "source": [
    "pred_probab = nn.Softmax(dim=1)(logits)\n",
    "y_pred = pred_probab.argmax(1)\n",
    "print(f\"Predicted class: {y_pred}\")"
   ]
  },
  {
   "source": [
    "Loss function 透過比較模型的「輸出值」與「真實答案」來衡量模型的好壞:"
   ],
   "cell_type": "markdown",
   "metadata": {}
  },
  {
   "cell_type": "code",
   "execution_count": 63,
   "metadata": {},
   "outputs": [
    {
     "output_type": "execute_result",
     "data": {
      "text/plain": [
       "tensor(0.3226, device='cuda:0', grad_fn=<BinaryCrossEntropyBackward>)"
      ]
     },
     "metadata": {},
     "execution_count": 63
    }
   ],
   "source": [
    "answer_mock = torch.tensor([[0,1,0,0,0,0,0,0,0,0]], device=device, dtype=torch.float32)\n",
    "loss = torch.nn.functional.binary_cross_entropy(pred_probab, answer_mock)\n",
    "loss"
   ]
  },
  {
   "source": [
    "---\n",
    "## Optimizing Model\n",
    "\n",
    "讓我們使用 `Pytorch` 官方的教學來快速優化一個模型，並且認識優化過程中的幾個重要元素。"
   ],
   "cell_type": "markdown",
   "metadata": {}
  },
  {
   "cell_type": "code",
   "execution_count": 48,
   "metadata": {},
   "outputs": [],
   "source": [
    "import torch\n",
    "from torch import nn\n",
    "from torch.utils.data import DataLoader\n",
    "from torchvision import datasets\n",
    "from torchvision.transforms import ToTensor, Lambda\n",
    "\n",
    "# 下載訓練資料\n",
    "training_data = datasets.FashionMNIST(\n",
    "    root=\"data\",\n",
    "    train=True,\n",
    "    download=True,\n",
    "    transform=ToTensor()\n",
    ")\n",
    "\n",
    "# 下載驗證資料\n",
    "test_data = datasets.FashionMNIST(\n",
    "    root=\"data\",\n",
    "    train=False,\n",
    "    download=True,\n",
    "    transform=ToTensor()\n",
    ")\n",
    "\n",
    "# 讀取資料，直接產生對應格式的批次資料\n",
    "train_dataloader = DataLoader(training_data, batch_size=64)\n",
    "test_dataloader = DataLoader(test_data, batch_size=64)\n",
    "\n",
    "# 以下開始定義模型\n",
    "class NeuralNetwork(nn.Module):\n",
    "    def __init__(self):\n",
    "        super(NeuralNetwork, self).__init__()\n",
    "        self.flatten = nn.Flatten()\n",
    "        self.linear_relu_stack = nn.Sequential(\n",
    "            nn.Linear(28*28, 512),\n",
    "            nn.ReLU(),\n",
    "            nn.Linear(512, 512),\n",
    "            nn.ReLU(),\n",
    "            nn.Linear(512, 10),\n",
    "            nn.ReLU()\n",
    "        )\n",
    "\n",
    "    def forward(self, x):\n",
    "        x = self.flatten(x)\n",
    "        logits = self.linear_relu_stack(x)\n",
    "        return logits\n",
    "\n",
    "model = NeuralNetwork()"
   ]
  },
  {
   "source": [
    "定義超參數:"
   ],
   "cell_type": "markdown",
   "metadata": {}
  },
  {
   "cell_type": "code",
   "execution_count": 49,
   "metadata": {},
   "outputs": [],
   "source": [
    "learning_rate = 1e-3\n",
    "batch_size = 64\n",
    "epochs = 5"
   ]
  },
  {
   "source": [
    "loss function 是用來衡量模型的好壞，根據任務類型的不同，我們會選擇不同的衡量方式"
   ],
   "cell_type": "markdown",
   "metadata": {}
  },
  {
   "cell_type": "code",
   "execution_count": 50,
   "metadata": {},
   "outputs": [],
   "source": [
    "loss_fn = nn.CrossEntropyLoss()"
   ]
  },
  {
   "source": [
    "優化器會根據 `loss` 來修正模型，根據任務類型的不同，我們會選擇不同的優化器及超參數:"
   ],
   "cell_type": "markdown",
   "metadata": {}
  },
  {
   "cell_type": "code",
   "execution_count": 51,
   "metadata": {},
   "outputs": [],
   "source": [
    "optimizer = torch.optim.SGD(model.parameters(), lr=learning_rate)"
   ]
  },
  {
   "source": [
    "定義訓練流程: "
   ],
   "cell_type": "markdown",
   "metadata": {}
  },
  {
   "cell_type": "code",
   "execution_count": 52,
   "metadata": {},
   "outputs": [],
   "source": [
    "def train_loop(dataloader, model, loss_fn, optimizer):\n",
    "    size = len(dataloader.dataset)\n",
    "\n",
    "    # 重點1. 透過 data loader 取出資料\n",
    "    for batch, (X, y) in enumerate(dataloader):\n",
    "        # 重點2. 透過Forward Propagation 取得模型的輸出值\n",
    "        pred = model(X)\n",
    "        # 重點3. 計算模型表現\n",
    "        loss = loss_fn(pred, y)\n",
    "\n",
    "        # Backpropagation\n",
    "        optimizer.zero_grad()\n",
    "        loss.backward()\n",
    "        optimizer.step()\n",
    "\n",
    "        if batch % 100 == 0:\n",
    "            loss, current = loss.item(), batch * len(X)\n",
    "            print(f\"loss: {loss:>7f}  [{current:>5d}/{size:>5d}]\")"
   ]
  },
  {
   "source": [
    "開始訓練!"
   ],
   "cell_type": "markdown",
   "metadata": {}
  },
  {
   "cell_type": "code",
   "execution_count": 53,
   "metadata": {},
   "outputs": [
    {
     "output_type": "stream",
     "name": "stdout",
     "text": [
      "Epoch 1\n",
      "-------------------------------\n",
      "loss: 2.299525  [    0/60000]\n",
      "loss: 2.294510  [ 6400/60000]\n",
      "loss: 2.285777  [12800/60000]\n",
      "loss: 2.281312  [19200/60000]\n",
      "loss: 2.268651  [25600/60000]\n",
      "loss: 2.271407  [32000/60000]\n",
      "loss: 2.258977  [38400/60000]\n",
      "loss: 2.255983  [44800/60000]\n",
      "loss: 2.250064  [51200/60000]\n",
      "loss: 2.227763  [57600/60000]\n",
      "Epoch 2\n",
      "-------------------------------\n",
      "loss: 2.230824  [    0/60000]\n",
      "loss: 2.215846  [ 6400/60000]\n",
      "loss: 2.188242  [12800/60000]\n",
      "loss: 2.191680  [19200/60000]\n",
      "loss: 2.162056  [25600/60000]\n",
      "loss: 2.187027  [32000/60000]\n",
      "loss: 2.156347  [38400/60000]\n",
      "loss: 2.151922  [44800/60000]\n",
      "loss: 2.155007  [51200/60000]\n",
      "loss: 2.107512  [57600/60000]\n",
      "Epoch 3\n",
      "-------------------------------\n",
      "loss: 2.127699  [    0/60000]\n",
      "loss: 2.091128  [ 6400/60000]\n",
      "loss: 2.029878  [12800/60000]\n",
      "loss: 2.039113  [19200/60000]\n",
      "loss: 1.988983  [25600/60000]\n",
      "loss: 2.048799  [32000/60000]\n",
      "loss: 1.985110  [38400/60000]\n",
      "loss: 1.986332  [44800/60000]\n",
      "loss: 2.007752  [51200/60000]\n",
      "loss: 1.922400  [57600/60000]\n",
      "Epoch 4\n",
      "-------------------------------\n",
      "loss: 1.976305  [    0/60000]\n",
      "loss: 1.909820  [ 6400/60000]\n",
      "loss: 1.813072  [12800/60000]\n",
      "loss: 1.826891  [19200/60000]\n",
      "loss: 1.779607  [25600/60000]\n",
      "loss: 1.888610  [32000/60000]\n",
      "loss: 1.776532  [38400/60000]\n",
      "loss: 1.808845  [44800/60000]\n",
      "loss: 1.846041  [51200/60000]\n",
      "loss: 1.722067  [57600/60000]\n",
      "Epoch 5\n",
      "-------------------------------\n",
      "loss: 1.822170  [    0/60000]\n",
      "loss: 1.736897  [ 6400/60000]\n",
      "loss: 1.621777  [12800/60000]\n",
      "loss: 1.632646  [19200/60000]\n",
      "loss: 1.603686  [25600/60000]\n",
      "loss: 1.755653  [32000/60000]\n",
      "loss: 1.597488  [38400/60000]\n",
      "loss: 1.657262  [44800/60000]\n",
      "loss: 1.667550  [51200/60000]\n",
      "loss: 1.486515  [57600/60000]\n",
      "Epoch 6\n",
      "-------------------------------\n",
      "loss: 1.681566  [    0/60000]\n",
      "loss: 1.588830  [ 6400/60000]\n",
      "loss: 1.430643  [12800/60000]\n",
      "loss: 1.414123  [19200/60000]\n",
      "loss: 1.443385  [25600/60000]\n",
      "loss: 1.547367  [32000/60000]\n",
      "loss: 1.484128  [38400/60000]\n",
      "loss: 1.551721  [44800/60000]\n",
      "loss: 1.535440  [51200/60000]\n",
      "loss: 1.340865  [57600/60000]\n",
      "Epoch 7\n",
      "-------------------------------\n",
      "loss: 1.577110  [    0/60000]\n",
      "loss: 1.479613  [ 6400/60000]\n",
      "loss: 1.305233  [12800/60000]\n",
      "loss: 1.294594  [19200/60000]\n",
      "loss: 1.336139  [25600/60000]\n",
      "loss: 1.456618  [32000/60000]\n",
      "loss: 1.394268  [38400/60000]\n",
      "loss: 1.480959  [44800/60000]\n",
      "loss: 1.449609  [51200/60000]\n",
      "loss: 1.262108  [57600/60000]\n",
      "Epoch 8\n",
      "-------------------------------\n",
      "loss: 1.496765  [    0/60000]\n",
      "loss: 1.406534  [ 6400/60000]\n",
      "loss: 1.218386  [12800/60000]\n",
      "loss: 1.220100  [19200/60000]\n",
      "loss: 1.263821  [25600/60000]\n",
      "loss: 1.391685  [32000/60000]\n",
      "loss: 1.332867  [38400/60000]\n",
      "loss: 1.432397  [44800/60000]\n",
      "loss: 1.387914  [51200/60000]\n",
      "loss: 1.209352  [57600/60000]\n",
      "Epoch 9\n",
      "-------------------------------\n",
      "loss: 1.435809  [    0/60000]\n",
      "loss: 1.354316  [ 6400/60000]\n",
      "loss: 1.154542  [12800/60000]\n",
      "loss: 1.167066  [19200/60000]\n",
      "loss: 1.212371  [25600/60000]\n",
      "loss: 1.343892  [32000/60000]\n",
      "loss: 1.288300  [38400/60000]\n",
      "loss: 1.397684  [44800/60000]\n",
      "loss: 1.340085  [51200/60000]\n",
      "loss: 1.169726  [57600/60000]\n",
      "Epoch 10\n",
      "-------------------------------\n",
      "loss: 1.386362  [    0/60000]\n",
      "loss: 1.313075  [ 6400/60000]\n",
      "loss: 1.104509  [12800/60000]\n",
      "loss: 1.126246  [19200/60000]\n",
      "loss: 1.173931  [25600/60000]\n",
      "loss: 1.305247  [32000/60000]\n",
      "loss: 1.253890  [38400/60000]\n",
      "loss: 1.370751  [44800/60000]\n",
      "loss: 1.300828  [51200/60000]\n",
      "loss: 1.137328  [57600/60000]\n",
      "Done!\n"
     ]
    }
   ],
   "source": [
    "loss_fn = nn.CrossEntropyLoss()\n",
    "optimizer = torch.optim.SGD(model.parameters(), lr=learning_rate)\n",
    "\n",
    "epochs = 10\n",
    "for t in range(epochs):\n",
    "    print(f\"Epoch {t+1}\\n-------------------------------\")\n",
    "    train_loop(train_dataloader, model, loss_fn, optimizer)\n",
    "print(\"Done!\")"
   ]
  },
  {
   "source": [
    "---\n",
    "## 休息時間\n",
    "\n",
    "你知道嗎? `Pytorch`分門別類地將各種模組都整理好了!\n",
    "\n",
    "舉例來說 : \n",
    "\n",
    "+ `torch.nn.xxx`: 各種不同的Layer\n",
    "+ `torch.optim.xxx`: 各種不同的優化器\n",
    "\n",
    "仿照上方的模型架構，試著抽換其他的優化器，看看訓練過程會有什麼不同吧?"
   ],
   "cell_type": "markdown",
   "metadata": {}
  }
 ]
}