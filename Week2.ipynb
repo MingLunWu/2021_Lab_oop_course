{
 "metadata": {
  "language_info": {
   "codemirror_mode": {
    "name": "ipython",
    "version": 3
   },
   "file_extension": ".py",
   "mimetype": "text/x-python",
   "name": "python",
   "nbconvert_exporter": "python",
   "pygments_lexer": "ipython3",
   "version": "3.9.5"
  },
  "orig_nbformat": 2,
  "kernelspec": {
   "name": "python395jvsc74a57bd0db147f94d5a0c766d476c12c9958153eca3fb31adb32675e761da7ff4c41aa91",
   "display_name": "Python 3.9.5 64-bit (windows store)"
  },
  "metadata": {
   "interpreter": {
    "hash": "db147f94d5a0c766d476c12c9958153eca3fb31adb32675e761da7ff4c41aa91"
   }
  }
 },
 "nbformat": 4,
 "nbformat_minor": 2,
 "cells": [
  {
   "source": [
    "# 物件導向特性 (1) - 封裝"
   ],
   "cell_type": "markdown",
   "metadata": {}
  },
  {
   "source": [
    "## 物件導向 - 未實做封裝"
   ],
   "cell_type": "markdown",
   "metadata": {}
  },
  {
   "cell_type": "code",
   "execution_count": 8,
   "metadata": {},
   "outputs": [],
   "source": [
    "class Car:\n",
    "    def __init__(self, color):\n",
    "        self.color = color\n",
    "        self.fuel = 100 # 剩餘油量\n",
    "        self.milage = 0 # 里程數\n",
    "        self.remain_distance = 100 # 預估可行駛距離 (假設1單位油量可以開1公里)"
   ]
  },
  {
   "source": [
    "進行實例化: "
   ],
   "cell_type": "markdown",
   "metadata": {}
  },
  {
   "cell_type": "code",
   "execution_count": 2,
   "metadata": {},
   "outputs": [],
   "source": [
    "my_car = Car(\"red\")"
   ]
  },
  {
   "source": [
    "使用 `.` 運算子可以直接取用屬性"
   ],
   "cell_type": "markdown",
   "metadata": {}
  },
  {
   "cell_type": "code",
   "execution_count": 3,
   "metadata": {},
   "outputs": [
    {
     "output_type": "stream",
     "name": "stdout",
     "text": [
      "100\n0\n"
     ]
    }
   ],
   "source": [
    "print(my_car.fuel)\n",
    "print(my_car.milage)"
   ]
  },
  {
   "source": [
    "使用 `.` 運算子也可以直接更改屬性:"
   ],
   "cell_type": "markdown",
   "metadata": {}
  },
  {
   "cell_type": "code",
   "execution_count": 4,
   "metadata": {},
   "outputs": [
    {
     "output_type": "stream",
     "name": "stdout",
     "text": [
      "100\n50\n"
     ]
    }
   ],
   "source": [
    "print(my_car.fuel)\n",
    "my_car.fuel = 50\n",
    "print(my_car.fuel)"
   ]
  },
  {
   "source": [
    "然而在實務上，我們盡量避免使用 `.` 來操作屬性\n",
    "\n",
    "舉例來說:"
   ],
   "cell_type": "markdown",
   "metadata": {}
  },
  {
   "cell_type": "code",
   "execution_count": 10,
   "metadata": {},
   "outputs": [],
   "source": [
    "ryan_car = Car(\"black\")"
   ]
  },
  {
   "cell_type": "code",
   "execution_count": 11,
   "metadata": {},
   "outputs": [],
   "source": [
    "ryan_car.fuel = 50"
   ]
  },
  {
   "cell_type": "code",
   "execution_count": 12,
   "metadata": {},
   "outputs": [
    {
     "output_type": "stream",
     "name": "stdout",
     "text": [
      "50\n0\n100\n"
     ]
    }
   ],
   "source": [
    "print(ryan_car.fuel)\n",
    "print(ryan_car.milage)\n",
    "print(ryan_car.remain_distance)"
   ]
  },
  {
   "source": [
    "上面的狀況非常奇怪... 明明燃料只剩下一半，為什麼預估可行駛距離還是 `100`?"
   ],
   "cell_type": "markdown",
   "metadata": {}
  },
  {
   "cell_type": "code",
   "execution_count": 15,
   "metadata": {},
   "outputs": [],
   "source": [
    "ryan_car.fuel = -200"
   ]
  },
  {
   "cell_type": "code",
   "execution_count": 16,
   "metadata": {},
   "outputs": [
    {
     "output_type": "stream",
     "name": "stdout",
     "text": [
      "-200\n0\n100\n"
     ]
    }
   ],
   "source": [
    "print(ryan_car.fuel)\n",
    "print(ryan_car.milage)\n",
    "print(ryan_car.remain_distance)"
   ]
  },
  {
   "source": [
    "這個狀況更奇怪了... 為什麼燃料會小於0的狀況?"
   ],
   "cell_type": "markdown",
   "metadata": {}
  },
  {
   "source": [
    "---\n",
    "## 物件導向 - 實做封裝"
   ],
   "cell_type": "markdown",
   "metadata": {}
  },
  {
   "cell_type": "code",
   "execution_count": 17,
   "metadata": {},
   "outputs": [],
   "source": [
    "class Car:\n",
    "    def __init__(self, color):\n",
    "        self.color = color\n",
    "        self.fuel = 100 # 剩餘油量\n",
    "        self.milage = 0 # 里程數\n",
    "        self.remain_distance = 100 # 預估可行駛距離 (假設1單位油量可以開1公里)\n",
    "\n",
    "    def get_fuel(self): # 取得當前油量\n",
    "        return self.fuel\n",
    "    \n",
    "    def get_milage(self): # 取得當前里程數\n",
    "        return self.milage\n",
    "    \n",
    "    def get_remain_distance(self): # 取得當前可行駛距離\n",
    "        return self.remain_distance\n",
    "    \n",
    "    def set_fuel(self, new_fuel): # 設定當前油量\n",
    "        if new_fuel > 100 or new_fuel < 0:\n",
    "            raise ValueError(\"The value of new_fuel must be between 0 and 100\")\n",
    "        else:\n",
    "            self.fuel = new_fuel\n",
    "            self.remain_distance = new_fuel\n",
    "    \n",
    "    def set_milage(self, new_milage): # 設定當前里程數\n",
    "        if new_milage < 0:\n",
    "            raise ValueError(\"The value of new_fuel must be greater than 0\")\n",
    "        else:\n",
    "            self.milage = new_milage\n",
    "    \n",
    "    def set_remain_distance(self, new_remain_distance): # 設定當前可行駛距離\n",
    "        raise ValueError(\"This Variable cannot be set... Please call self.set_fuel()\")"
   ]
  },
  {
   "cell_type": "code",
   "execution_count": 18,
   "metadata": {},
   "outputs": [],
   "source": [
    "allen_car = Car(\"red\")"
   ]
  },
  {
   "cell_type": "code",
   "execution_count": 21,
   "metadata": {},
   "outputs": [
    {
     "output_type": "stream",
     "name": "stdout",
     "text": [
      "100\n100\n"
     ]
    }
   ],
   "source": [
    "print(allen_car.get_fuel())\n",
    "print(allen_car.get_remain_distance())"
   ]
  },
  {
   "source": [
    "在實做封裝後，一旦更新了油量，同時也會更新剩餘距離"
   ],
   "cell_type": "markdown",
   "metadata": {}
  },
  {
   "cell_type": "code",
   "execution_count": 24,
   "metadata": {},
   "outputs": [
    {
     "output_type": "stream",
     "name": "stdout",
     "text": [
      "Old Fuel:\n50\nNew Fuel and remain distance\n50\n50\n"
     ]
    }
   ],
   "source": [
    "print(\"Old Fuel:\")\n",
    "print(allen_car.get_fuel())\n",
    "allen_car.set_fuel(50)\n",
    "print(\"New Fuel and remain distance\")\n",
    "print(allen_car.get_fuel())\n",
    "print(allen_car.get_remain_distance())"
   ]
  },
  {
   "source": [
    "同時也可以避免不小心設定了「不洽當的值」:"
   ],
   "cell_type": "markdown",
   "metadata": {}
  },
  {
   "cell_type": "code",
   "execution_count": 26,
   "metadata": {},
   "outputs": [
    {
     "output_type": "error",
     "ename": "ValueError",
     "evalue": "This Variable cannot be set... Please call self.set_fuel()",
     "traceback": [
      "\u001b[1;31m---------------------------------------------------------------------------\u001b[0m",
      "\u001b[1;31mValueError\u001b[0m                                Traceback (most recent call last)",
      "\u001b[1;32m<ipython-input-26-c92ee6ba9da3>\u001b[0m in \u001b[0;36m<module>\u001b[1;34m\u001b[0m\n\u001b[1;32m----> 1\u001b[1;33m \u001b[0mallen_car\u001b[0m\u001b[1;33m.\u001b[0m\u001b[0mset_remain_distance\u001b[0m\u001b[1;33m(\u001b[0m\u001b[1;36m100\u001b[0m\u001b[1;33m)\u001b[0m\u001b[1;33m\u001b[0m\u001b[1;33m\u001b[0m\u001b[0m\n\u001b[0m",
      "\u001b[1;32m<ipython-input-17-fb0745ddf9da>\u001b[0m in \u001b[0;36mset_remain_distance\u001b[1;34m(self, new_remain_distance)\u001b[0m\n\u001b[0;32m     29\u001b[0m \u001b[1;33m\u001b[0m\u001b[0m\n\u001b[0;32m     30\u001b[0m     \u001b[1;32mdef\u001b[0m \u001b[0mset_remain_distance\u001b[0m\u001b[1;33m(\u001b[0m\u001b[0mself\u001b[0m\u001b[1;33m,\u001b[0m \u001b[0mnew_remain_distance\u001b[0m\u001b[1;33m)\u001b[0m\u001b[1;33m:\u001b[0m \u001b[1;31m# 設定當前可行駛距離\u001b[0m\u001b[1;33m\u001b[0m\u001b[1;33m\u001b[0m\u001b[0m\n\u001b[1;32m---> 31\u001b[1;33m         \u001b[1;32mraise\u001b[0m \u001b[0mValueError\u001b[0m\u001b[1;33m(\u001b[0m\u001b[1;34m\"This Variable cannot be set... Please call self.set_fuel()\"\u001b[0m\u001b[1;33m)\u001b[0m\u001b[1;33m\u001b[0m\u001b[1;33m\u001b[0m\u001b[0m\n\u001b[0m",
      "\u001b[1;31mValueError\u001b[0m: This Variable cannot be set... Please call self.set_fuel()"
     ]
    }
   ],
   "source": [
    "allen_car.set_remain_distance(100)"
   ]
  },
  {
   "cell_type": "code",
   "execution_count": 27,
   "metadata": {},
   "outputs": [
    {
     "output_type": "error",
     "ename": "ValueError",
     "evalue": "The value of new_fuel must be between 0 and 100",
     "traceback": [
      "\u001b[1;31m---------------------------------------------------------------------------\u001b[0m",
      "\u001b[1;31mValueError\u001b[0m                                Traceback (most recent call last)",
      "\u001b[1;32m<ipython-input-27-481a70f0769e>\u001b[0m in \u001b[0;36m<module>\u001b[1;34m\u001b[0m\n\u001b[1;32m----> 1\u001b[1;33m \u001b[0mallen_car\u001b[0m\u001b[1;33m.\u001b[0m\u001b[0mset_fuel\u001b[0m\u001b[1;33m(\u001b[0m\u001b[1;33m-\u001b[0m\u001b[1;36m31520\u001b[0m\u001b[1;33m)\u001b[0m\u001b[1;33m\u001b[0m\u001b[1;33m\u001b[0m\u001b[0m\n\u001b[0m",
      "\u001b[1;32m<ipython-input-17-fb0745ddf9da>\u001b[0m in \u001b[0;36mset_fuel\u001b[1;34m(self, new_fuel)\u001b[0m\n\u001b[0;32m     17\u001b[0m     \u001b[1;32mdef\u001b[0m \u001b[0mset_fuel\u001b[0m\u001b[1;33m(\u001b[0m\u001b[0mself\u001b[0m\u001b[1;33m,\u001b[0m \u001b[0mnew_fuel\u001b[0m\u001b[1;33m)\u001b[0m\u001b[1;33m:\u001b[0m \u001b[1;31m# 設定當前油量\u001b[0m\u001b[1;33m\u001b[0m\u001b[1;33m\u001b[0m\u001b[0m\n\u001b[0;32m     18\u001b[0m         \u001b[1;32mif\u001b[0m \u001b[0mnew_fuel\u001b[0m \u001b[1;33m>\u001b[0m \u001b[1;36m100\u001b[0m \u001b[1;32mor\u001b[0m \u001b[0mnew_fuel\u001b[0m \u001b[1;33m<\u001b[0m \u001b[1;36m0\u001b[0m\u001b[1;33m:\u001b[0m\u001b[1;33m\u001b[0m\u001b[1;33m\u001b[0m\u001b[0m\n\u001b[1;32m---> 19\u001b[1;33m             \u001b[1;32mraise\u001b[0m \u001b[0mValueError\u001b[0m\u001b[1;33m(\u001b[0m\u001b[1;34m\"The value of new_fuel must be between 0 and 100\"\u001b[0m\u001b[1;33m)\u001b[0m\u001b[1;33m\u001b[0m\u001b[1;33m\u001b[0m\u001b[0m\n\u001b[0m\u001b[0;32m     20\u001b[0m         \u001b[1;32melse\u001b[0m\u001b[1;33m:\u001b[0m\u001b[1;33m\u001b[0m\u001b[1;33m\u001b[0m\u001b[0m\n\u001b[0;32m     21\u001b[0m             \u001b[0mself\u001b[0m\u001b[1;33m.\u001b[0m\u001b[0mfuel\u001b[0m \u001b[1;33m=\u001b[0m \u001b[0mnew_fuel\u001b[0m\u001b[1;33m\u001b[0m\u001b[1;33m\u001b[0m\u001b[0m\n",
      "\u001b[1;31mValueError\u001b[0m: The value of new_fuel must be between 0 and 100"
     ]
    }
   ],
   "source": [
    "allen_car.set_fuel(-31520)"
   ]
  },
  {
   "source": [
    "---\n",
    "# 練習時間 - Your Turn!\n",
    "\n"
   ],
   "cell_type": "markdown",
   "metadata": {}
  },
  {
   "cell_type": "code",
   "execution_count": 28,
   "metadata": {},
   "outputs": [],
   "source": [
    "class Human:\n",
    "    def __init__(self, name, height, weight, gender):  # 建構式\n",
    "        self.name = name\n",
    "        self.height = height\n",
    "        self.weight = weight\n",
    "        self.gender = gender\n",
    "\n",
    "    def breath(self):\n",
    "        print(\"啊哈!空氣真新鮮\")\n",
    "\n",
    "    def eat(self):\n",
    "        self.weight = self.weight + 1\n",
    "\n",
    "    def run(self):\n",
    "        self.weight = self.weight - 1\n",
    "\n",
    "    def measure_weight(self):\n",
    "        print(f\"我是{self.name}，我的體重是{self.weight}公斤\")\n",
    "\n",
    "    ################################\n",
    "    # 以下請實做 height, weight, gender 的 getter 及 setter\n",
    "    # 其中可以按照自己對此類別的理解增加條件及調整輸出格式"
   ]
  },
  {
   "source": [
    "以下為測試用程式碼"
   ],
   "cell_type": "markdown",
   "metadata": {}
  },
  {
   "cell_type": "code",
   "execution_count": null,
   "metadata": {},
   "outputs": [],
   "source": [
    "test_human = Human(\"test\", 199, 75, \"Female\")\n",
    "\n",
    "test_human.get_height()\n",
    "test_human.set_height(195)\n",
    "test_human.get_weight()\n",
    "test_human.set_gender()"
   ]
  },
  {
   "source": [
    "---\n",
    "# 物件導向 特性(2) - 繼承"
   ],
   "cell_type": "markdown",
   "metadata": {}
  },
  {
   "source": [
    "## 未實做繼承 "
   ],
   "cell_type": "markdown",
   "metadata": {}
  },
  {
   "cell_type": "code",
   "execution_count": 30,
   "metadata": {},
   "outputs": [],
   "source": [
    "class Car:\n",
    "    def __init__(self, color):\n",
    "        self.color = color\n",
    "        self.fuel = 100 # 剩餘油量\n",
    "        self.milage = 0 # 里程數\n",
    "        self.remain_distance = 100 # 預估可行駛距離 (假設1單位油量可以開1公里)\n",
    "\n",
    "    def get_fuel(self): # 取得當前油量\n",
    "        return self.fuel\n",
    "    \n",
    "    def get_milage(self): # 取得當前里程數\n",
    "        return self.milage\n",
    "    \n",
    "    def get_remain_distance(self): # 取得當前可行駛距離\n",
    "        return self.remain_distance\n",
    "    \n",
    "    def set_fuel(self, new_fuel): # 設定當前油量\n",
    "        if new_fuel > 100 or new_fuel < 0:\n",
    "            raise ValueError(\"The value of new_fuel must be between 0 and 100\")\n",
    "        else:\n",
    "            self.fuel = new_fuel\n",
    "            self.remain_distance = new_fuel\n",
    "    \n",
    "    def set_milage(self, new_milage): # 設定當前里程數\n",
    "        if new_milage < 0:\n",
    "            raise ValueError(\"The value of new_fuel must be greater than 0\")\n",
    "        else:\n",
    "            self.milage = new_milage\n",
    "    \n",
    "    def set_remain_distance(self, new_remain_distance): # 設定當前可行駛距離\n",
    "        raise ValueError(\"This Variable cannot be set... Please call self.set_fuel()\")\n",
    "\n",
    "    def open_door(self):\n",
    "        print(\"The door has been opened!\")\n",
    "\n",
    "    def close_door(self):\n",
    "        print(\"The door has been closed!\")\n",
    "\n",
    "    def drive(self):\n",
    "        self.set_fuel(self.get_fuel()-1)\n",
    "\n",
    "class Airplane:\n",
    "    def __init__(self, color):\n",
    "        self.color = color\n",
    "        self.fuel = 100 # 剩餘油量\n",
    "        self.milage = 0 # 里程數\n",
    "        self.remain_distance = 100 # 預估可行駛距離 (假設1單位油量可以開1公里)\n",
    "\n",
    "    def get_fuel(self): # 取得當前油量\n",
    "        return self.fuel\n",
    "    \n",
    "    def get_milage(self): # 取得當前里程數\n",
    "        return self.milage\n",
    "    \n",
    "    def get_remain_distance(self): # 取得當前可行駛距離\n",
    "        return self.remain_distance\n",
    "    \n",
    "    def set_fuel(self, new_fuel): # 設定當前油量\n",
    "        if new_fuel > 100 or new_fuel < 0:\n",
    "            raise ValueError(\"The value of new_fuel must be between 0 and 100\")\n",
    "        else:\n",
    "            self.fuel = new_fuel\n",
    "            self.remain_distance = new_fuel\n",
    "    \n",
    "    def set_milage(self, new_milage): # 設定當前里程數\n",
    "        if new_milage < 0:\n",
    "            raise ValueError(\"The value of new_fuel must be greater than 0\")\n",
    "        else:\n",
    "            self.milage = new_milage\n",
    "    \n",
    "    def set_remain_distance(self, new_remain_distance): # 設定當前可行駛距離\n",
    "        raise ValueError(\"This Variable cannot be set... Please call self.set_fuel()\")\n",
    "\n",
    "    def open_door(self):\n",
    "        print(\"The door has been opened!\")\n",
    "\n",
    "    def close_door(self):\n",
    "        print(\"The door has been closed!\")\n",
    "\n",
    "    def fly(self):\n",
    "        self.set_fuel(self.get_fuel()-1)"
   ]
  },
  {
   "source": [
    "---\n",
    "## 實做繼承"
   ],
   "cell_type": "markdown",
   "metadata": {}
  },
  {
   "source": [
    "## 定義父類別"
   ],
   "cell_type": "markdown",
   "metadata": {}
  },
  {
   "cell_type": "code",
   "execution_count": 32,
   "metadata": {},
   "outputs": [],
   "source": [
    "class Transportation:\n",
    "    def __init__(self, color):\n",
    "        self.color = color\n",
    "        self.fuel = 100 # 剩餘油量\n",
    "        self.milage = 0 # 里程數\n",
    "        self.remain_distance = 100 # 預估可行駛距離 (假設1單位油量可以開1公里)\n",
    "\n",
    "    def get_fuel(self): # 取得當前油量\n",
    "        return self.fuel\n",
    "    \n",
    "    def get_milage(self): # 取得當前里程數\n",
    "        return self.milage\n",
    "    \n",
    "    def get_remain_distance(self): # 取得當前可行駛距離\n",
    "        return self.remain_distance\n",
    "    \n",
    "    def set_fuel(self, new_fuel): # 設定當前油量\n",
    "        if new_fuel > 100 or new_fuel < 0:\n",
    "            raise ValueError(\"The value of new_fuel must be between 0 and 100\")\n",
    "        else:\n",
    "            self.fuel = new_fuel\n",
    "            self.remain_distance = new_fuel\n",
    "    \n",
    "    def set_milage(self, new_milage): # 設定當前里程數\n",
    "        if new_milage < 0:\n",
    "            raise ValueError(\"The value of new_fuel must be greater than 0\")\n",
    "        else:\n",
    "            self.milage = new_milage\n",
    "    \n",
    "    def set_remain_distance(self, new_remain_distance): # 設定當前可行駛距離\n",
    "        raise ValueError(\"This Variable cannot be set... Please call self.set_fuel()\")\n",
    "\n",
    "    def open_door(self):\n",
    "        print(\"The door has been opened!\")\n",
    "\n",
    "    def close_door(self):\n",
    "        print(\"The door has been closed!\")"
   ]
  },
  {
   "source": [
    "## 定義子類別\n"
   ],
   "cell_type": "markdown",
   "metadata": {}
  },
  {
   "cell_type": "code",
   "execution_count": 34,
   "metadata": {},
   "outputs": [],
   "source": [
    "class Car(Transportation): # () 中放置的是父類別\n",
    "    def __init__(self, color):\n",
    "        super().__init__(color) # super() 代表的是父類別\n",
    "\n",
    "    def drive(self):\n",
    "        print(\"The car took a step forward\")\n",
    "        self.set_fuel(self.get_fuel()-1)\n",
    "\n",
    "    # 如果沒有額外定義，子類別會沿用父類別的所有屬性及方法\n",
    "\n",
    "class Airplane(Transportation):\n",
    "    def __init__(self, color):\n",
    "        super().__init__(color)\n",
    "    \n",
    "    def fly(self):\n",
    "        print(\"The plane flies forward\")\n",
    "        self.set_fuel(self.get_fuel()-2)\n",
    "\n",
    "    # 如果沒有額外定義，子類別會沿用父類別的所有屬性及方法"
   ]
  },
  {
   "cell_type": "code",
   "execution_count": 35,
   "metadata": {},
   "outputs": [
    {
     "output_type": "stream",
     "name": "stdout",
     "text": [
      "The door has been opened!\n"
     ]
    }
   ],
   "source": [
    "airplane = Airplane(\"red\")\n",
    "airplane.open_door()"
   ]
  },
  {
   "source": [
    "---\n",
    "\n",
    "## 練習時間 - Your Turn!\n",
    "\n",
    "自己定義一個父類別及兩個子類別\n",
    "請從日常生活中尋找靈感，試著定義一個父類別及兩個子類別\n",
    "\n",
    "完成後，請嘗試建立兩種隸屬於此類別的\"物件\"\n",
    "\n",
    "提示 : 動物 、 "
   ],
   "cell_type": "markdown",
   "metadata": {}
  },
  {
   "cell_type": "code",
   "execution_count": 36,
   "metadata": {},
   "outputs": [],
   "source": [
    "# Your Code Here!\n",
    "#\n",
    "#\n",
    "#\n",
    "#"
   ]
  },
  {
   "source": [
    "---\n",
    "## 覆寫 Override"
   ],
   "cell_type": "markdown",
   "metadata": {}
  },
  {
   "cell_type": "code",
   "execution_count": 37,
   "metadata": {},
   "outputs": [],
   "source": [
    "class Car(Transportation): # () 中放置的是父類別\n",
    "    def __init__(self, color):\n",
    "        super().__init__(color) # super() 代表的是父類別\n",
    "\n",
    "    def drive(self):\n",
    "        print(\"The car took a step forward\")\n",
    "        self.set_fuel(self.get_fuel()-1)\n",
    "\n",
    "    # 重新定義兩個父類別的方法 (Override)\n",
    "    def open_door(self):\n",
    "        print(\"This is a car! The door has been opened!\")\n",
    "\n",
    "    def close_door(self):\n",
    "        print(\"This is a car! The door has been closed!\")\n",
    "\n",
    "    # 如果沒有額外定義，子類別會沿用父類別的所有屬性及方法\n",
    "\n",
    "class Airplane(Transportation):\n",
    "    def __init__(self, color):\n",
    "        super().__init__(color)\n",
    "    \n",
    "    def fly(self):\n",
    "        print(\"The plane flies forward\")\n",
    "        self.set_fuel(self.get_fuel()-2)\n",
    "\n",
    "    # 如果沒有額外定義，子類別會沿用父類別的所有屬性及方法"
   ]
  },
  {
   "cell_type": "code",
   "execution_count": 38,
   "metadata": {},
   "outputs": [
    {
     "output_type": "stream",
     "name": "stdout",
     "text": [
      "The door has been opened!\nThis is a car! The door has been opened!\n"
     ]
    }
   ],
   "source": [
    "airplane = Airplane(\"red\")\n",
    "airplane.open_door() # 繼承自Transportation 類別，沒有做任何調整，所以直接沿用父類別\n",
    "car = Car(\"red\")\n",
    "car.open_door() # 同樣繼承自 Transportation 類別，但因為有覆寫，所以展現的行為與父類別不同"
   ]
  }
 ]
}