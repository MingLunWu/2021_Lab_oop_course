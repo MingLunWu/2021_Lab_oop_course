{
 "metadata": {
  "language_info": {
   "codemirror_mode": {
    "name": "ipython",
    "version": 3
   },
   "file_extension": ".py",
   "mimetype": "text/x-python",
   "name": "python",
   "nbconvert_exporter": "python",
   "pygments_lexer": "ipython3",
   "version": "3.7.6"
  },
  "orig_nbformat": 2,
  "kernelspec": {
   "name": "python376jvsc74a57bd08b417439462f0f9561ea149de9bf692c1cb90a9053c50f2ae60c483eecade63a",
   "display_name": "Python 3.7.6 64-bit ('base': conda)"
  }
 },
 "nbformat": 4,
 "nbformat_minor": 2,
 "cells": [
  {
   "source": [
    "# 定義類別\n",
    "\n",
    "`__init__()` 是屬於 Python 的保留字，指的是物件的「建構式」 (Constructor)"
   ],
   "cell_type": "markdown",
   "metadata": {}
  },
  {
   "cell_type": "code",
   "execution_count": 34,
   "metadata": {},
   "outputs": [],
   "source": [
    "class Human: # 定義 Human 這個類別\n",
    "    def __init__(self): # Intial Function: 當使用者根據此「類別」建立「實體」時，會呼叫此函式\n",
    "        self.height = 185\n",
    "        self.weight = 60\n",
    "        self.gender = \"Male\""
   ]
  },
  {
   "source": [
    "---\n",
    "# 建立實體"
   ],
   "cell_type": "markdown",
   "metadata": {}
  },
  {
   "cell_type": "code",
   "execution_count": 2,
   "metadata": {},
   "outputs": [],
   "source": [
    "minglun = Human()"
   ]
  },
  {
   "cell_type": "code",
   "execution_count": 3,
   "metadata": {},
   "outputs": [
    {
     "output_type": "execute_result",
     "data": {
      "text/plain": [
       "__main__.Human"
      ]
     },
     "metadata": {},
     "execution_count": 3
    }
   ],
   "source": [
    "type(minglun)"
   ]
  },
  {
   "source": [
    "使用 `.` 能夠使用該實體的 `屬性` 以及 `方法`"
   ],
   "cell_type": "markdown",
   "metadata": {}
  },
  {
   "cell_type": "code",
   "execution_count": 4,
   "metadata": {},
   "outputs": [
    {
     "output_type": "execute_result",
     "data": {
      "text/plain": [
       "'Male'"
      ]
     },
     "metadata": {},
     "execution_count": 4
    }
   ],
   "source": [
    "minglun.gender"
   ]
  },
  {
   "cell_type": "code",
   "execution_count": 5,
   "metadata": {},
   "outputs": [
    {
     "output_type": "execute_result",
     "data": {
      "text/plain": [
       "185"
      ]
     },
     "metadata": {},
     "execution_count": 5
    }
   ],
   "source": [
    "minglun.height"
   ]
  },
  {
   "cell_type": "code",
   "execution_count": 35,
   "metadata": {},
   "outputs": [],
   "source": [
    "minglun = Human()\n",
    "gaming = Human()"
   ]
  },
  {
   "cell_type": "code",
   "execution_count": 36,
   "metadata": {},
   "outputs": [
    {
     "output_type": "stream",
     "name": "stdout",
     "text": [
      "60\n60\n"
     ]
    }
   ],
   "source": [
    "print(minglun.weight)\n",
    "print(gaming.weight)"
   ]
  },
  {
   "source": [
    "---\n",
    "# 定義更豐富的類別\n",
    "\n",
    "調整 `__init__()` 能夠在建立實體時，賦予不同的屬性"
   ],
   "cell_type": "markdown",
   "metadata": {}
  },
  {
   "cell_type": "code",
   "execution_count": 6,
   "metadata": {},
   "outputs": [],
   "source": [
    "class Human:\n",
    "    def __init__(self, height, weight, gender): # 使用物件導向時，大部分的Method都要加入 self 這個參數，我們稍後會再提到\n",
    "        self.height = height\n",
    "        self.weight = weight\n",
    "        self.gender = gender"
   ]
  },
  {
   "source": [
    "因為我們規定在建立 `Human()` 這個類別的實體時，必須要給予特定的參數，所以下面的程式碼會噴錯"
   ],
   "cell_type": "markdown",
   "metadata": {}
  },
  {
   "cell_type": "code",
   "execution_count": 7,
   "metadata": {},
   "outputs": [
    {
     "output_type": "error",
     "ename": "TypeError",
     "evalue": "__init__() missing 3 required positional arguments: 'height', 'weight', and 'gender'",
     "traceback": [
      "\u001b[1;31m---------------------------------------------------------------------------\u001b[0m",
      "\u001b[1;31mTypeError\u001b[0m                                 Traceback (most recent call last)",
      "\u001b[1;32m<ipython-input-7-03882324ad3a>\u001b[0m in \u001b[0;36m<module>\u001b[1;34m\u001b[0m\n\u001b[1;32m----> 1\u001b[1;33m \u001b[0mminglun\u001b[0m \u001b[1;33m=\u001b[0m \u001b[0mHuman\u001b[0m\u001b[1;33m(\u001b[0m\u001b[1;33m)\u001b[0m\u001b[1;33m\u001b[0m\u001b[1;33m\u001b[0m\u001b[0m\n\u001b[0m",
      "\u001b[1;31mTypeError\u001b[0m: __init__() missing 3 required positional arguments: 'height', 'weight', and 'gender'"
     ]
    }
   ],
   "source": [
    "minglun = Human()"
   ]
  },
  {
   "cell_type": "code",
   "execution_count": 8,
   "metadata": {},
   "outputs": [],
   "source": [
    "minglun = Human(179, 75, \"Male\")\n",
    "gaming = Human(200, 68, \"Male\")"
   ]
  },
  {
   "cell_type": "code",
   "execution_count": 9,
   "metadata": {},
   "outputs": [
    {
     "output_type": "stream",
     "name": "stdout",
     "text": [
      "<class '__main__.Human'>\n<class '__main__.Human'>\n"
     ]
    }
   ],
   "source": [
    "print(type(minglun))\n",
    "print(type(gaming))"
   ]
  },
  {
   "cell_type": "code",
   "execution_count": 10,
   "metadata": {},
   "outputs": [
    {
     "output_type": "stream",
     "name": "stdout",
     "text": [
      "179\n200\n"
     ]
    }
   ],
   "source": [
    "print(minglun.height)\n",
    "print(gaming.height)"
   ]
  },
  {
   "source": [
    "---\n",
    "# 練習時間 - Your Turn\n",
    "\n",
    "請嘗試建立一個類別 `House`，此類別會有 `address`, `price`, `floors`三種屬性"
   ],
   "cell_type": "markdown",
   "metadata": {}
  },
  {
   "cell_type": "code",
   "execution_count": 12,
   "metadata": {},
   "outputs": [],
   "source": [
    "# Your Code Here! 建立一個類別 `House`\n",
    "#\n",
    "#\n",
    "#\n",
    "#\n",
    "#\n",
    "#\n",
    "#"
   ]
  },
  {
   "cell_type": "code",
   "execution_count": null,
   "metadata": {},
   "outputs": [],
   "source": [
    "# Your Code Here! 建立一個 `House` 的實體 `minglun_house`，使其擁有下面的屬性\n",
    "#\n",
    "#\n",
    "#\n",
    "#\n",
    "#\n",
    "#\n",
    "#"
   ]
  },
  {
   "cell_type": "code",
   "execution_count": 14,
   "metadata": {},
   "outputs": [
    {
     "output_type": "stream",
     "name": "stdout",
     "text": [
      "雲林縣偏鄉沒有路31號\n300000\n3\n"
     ]
    }
   ],
   "source": [
    "print(minglun_house.address)\n",
    "print(minglun_house.price)\n",
    "print(minglun_house.floors)"
   ]
  },
  {
   "source": [
    "---\n",
    "# 定義類別的方法 (Method)\n",
    "\n",
    "除了`屬性`外，每一個類別也可以定義自己的方法"
   ],
   "cell_type": "markdown",
   "metadata": {}
  },
  {
   "cell_type": "code",
   "execution_count": 21,
   "metadata": {},
   "outputs": [],
   "source": [
    "class Human:\n",
    "    def __init__(self, name, height, weight, gender): # 使用物件導向時，大部分的Method都要加入 self 這個參數，我們稍後會再提到\n",
    "        self.name = name\n",
    "        self.height = height\n",
    "        self.weight = weight\n",
    "        self.gender = gender\n",
    "\n",
    "    def breath(self):\n",
    "        print(\"啊哈!空氣真新鮮\")\n",
    "\n",
    "    def eat(self):\n",
    "        self.weight = self.weight + 1\n",
    "\n",
    "    def run(self):\n",
    "        self.weight = self.weight - 1\n",
    "\n",
    "    def measure_weight(self):\n",
    "        print(f\"我是{self.name}，我的體重是{self.weight}公斤\")"
   ]
  },
  {
   "cell_type": "code",
   "execution_count": 27,
   "metadata": {},
   "outputs": [],
   "source": [
    "minglun = Human('明倫', 179, 75, 'Male')\n",
    "gaming = Human('家銘', 200, 64, 'Male')"
   ]
  },
  {
   "cell_type": "code",
   "execution_count": 28,
   "metadata": {},
   "outputs": [
    {
     "output_type": "stream",
     "name": "stdout",
     "text": [
      "啊哈!空氣真新鮮\n"
     ]
    }
   ],
   "source": [
    "minglun.breath()"
   ]
  },
  {
   "cell_type": "code",
   "execution_count": 29,
   "metadata": {},
   "outputs": [
    {
     "output_type": "stream",
     "name": "stdout",
     "text": [
      "我是明倫，我的體重是75公斤\n"
     ]
    }
   ],
   "source": [
    "minglun.measure_weight()"
   ]
  },
  {
   "cell_type": "code",
   "execution_count": 30,
   "metadata": {},
   "outputs": [],
   "source": [
    "minglun.eat()"
   ]
  },
  {
   "cell_type": "code",
   "execution_count": 31,
   "metadata": {},
   "outputs": [
    {
     "output_type": "stream",
     "name": "stdout",
     "text": [
      "我是明倫，我的體重是76公斤\n"
     ]
    }
   ],
   "source": [
    "minglun.measure_weight()"
   ]
  },
  {
   "cell_type": "code",
   "execution_count": 32,
   "metadata": {},
   "outputs": [
    {
     "output_type": "stream",
     "name": "stdout",
     "text": [
      "我是家銘，我的體重是64公斤\n"
     ]
    }
   ],
   "source": [
    "gaming.measure_weight()"
   ]
  },
  {
   "source": [
    "---\n",
    "# self 的用處\n",
    "\n",
    "它代表了實體物件的參考，也就是目前的物件(Object)。這個self就是告訴類別(Class)目前是在設定哪一個物件\n",
    "\n",
    "你一定會想說奇怪，建構式(Constructor)的參數有五個，為什麼我們只有傳入四個?\n",
    "\n",
    "因為第一個self參數，Python編譯器會幫我們把目前物件的參考(minglun)傳給建構式(Constructor)，所以我們就不需要多此一舉傳入物件。"
   ],
   "cell_type": "markdown",
   "metadata": {}
  },
  {
   "cell_type": "code",
   "execution_count": null,
   "metadata": {},
   "outputs": [],
   "source": [
    "class Human:\n",
    "    def __init__(self, name, height, weight, gender):  # 建構式\n",
    "        self.name = name\n",
    "        self.height = height\n",
    "        self.weight = weight\n",
    "        self.gender = gender\n",
    "\n",
    "    def breath(self):\n",
    "        print(\"啊哈!空氣真新鮮\")\n",
    "\n",
    "    def eat(self):\n",
    "        self.weight = self.weight + 1\n",
    "\n",
    "    def run(self):\n",
    "        self.weight = self.weight - 1\n",
    "\n",
    "    def measure_weight(self):\n",
    "        print(f\"我是{self.name}，我的體重是{self.weight}公斤\")"
   ]
  },
  {
   "cell_type": "code",
   "execution_count": null,
   "metadata": {},
   "outputs": [],
   "source": [
    "minglun = Human('明倫', 179, 75, 'Male')"
   ]
  },
  {
   "source": [
    "# 練習時間 - Your Turn!\n",
    "\n",
    "## 自己定義一個類別\n",
    "\n",
    "請從日常生活中尋找靈感，試著定義一個類別，最少需要具備 3 種不同的屬性 以及 3 種方法\n",
    "\n",
    "完成後，請嘗試建立兩種隸屬於此類別的\"物件\""
   ],
   "cell_type": "markdown",
   "metadata": {}
  },
  {
   "cell_type": "code",
   "execution_count": null,
   "metadata": {},
   "outputs": [],
   "source": [
    "# Your Code Here! 建立一個自己的類別 \n",
    "#\n",
    "#\n",
    "#\n",
    "#\n",
    "#\n",
    "#\n",
    "#"
   ]
  },
  {
   "cell_type": "code",
   "execution_count": null,
   "metadata": {},
   "outputs": [],
   "source": [
    "# Your Code Here! 使用你所定義的類別，建構兩個不同的物件\n",
    "#\n",
    "#\n",
    "#\n",
    "#\n",
    "#\n",
    "#\n",
    "#"
   ]
  }
 ]
}